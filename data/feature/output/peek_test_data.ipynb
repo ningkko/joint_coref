{
 "cells": [
  {
   "cell_type": "code",
   "execution_count": 3,
   "metadata": {},
   "outputs": [],
   "source": [
    "import sys\n",
    "import pickle\n",
    "\n",
    "sys.path.append(\"../../shared\")\n",
    "from classes import *\n",
    "with open('test_data', 'rb') as f:\n",
    "    test_data = pickle.load(f)"
   ]
  },
  {
   "cell_type": "code",
   "execution_count": 4,
   "metadata": {},
   "outputs": [
    {
     "data": {
      "text/plain": [
       "<classes.Corpus at 0x1110954f0>"
      ]
     },
     "execution_count": 4,
     "metadata": {},
     "output_type": "execute_result"
    }
   ],
   "source": [
    "test_data"
   ]
  },
  {
   "cell_type": "code",
   "execution_count": 5,
   "metadata": {},
   "outputs": [
    {
     "data": {
      "text/plain": [
       "{'36_ecb': <classes.Topic at 0x111095fd0>,\n",
       " '37_ecb': <classes.Topic at 0x111176a30>,\n",
       " '38_ecb': <classes.Topic at 0x1122575b0>,\n",
       " '39_ecb': <classes.Topic at 0x11228fa30>,\n",
       " '40_ecb': <classes.Topic at 0x112310130>,\n",
       " '41_ecb': <classes.Topic at 0x1123686a0>,\n",
       " '42_ecb': <classes.Topic at 0x112436040>,\n",
       " '43_ecb': <classes.Topic at 0x1124888b0>,\n",
       " '44_ecb': <classes.Topic at 0x112570ca0>,\n",
       " '45_ecb': <classes.Topic at 0x1126369a0>,\n",
       " '36_ecbplus': <classes.Topic at 0x1126d1e20>,\n",
       " '37_ecbplus': <classes.Topic at 0x112754a30>,\n",
       " '38_ecbplus': <classes.Topic at 0x1128029a0>,\n",
       " '39_ecbplus': <classes.Topic at 0x112889ca0>,\n",
       " '40_ecbplus': <classes.Topic at 0x1128f9e50>,\n",
       " '41_ecbplus': <classes.Topic at 0x1129513a0>,\n",
       " '42_ecbplus': <classes.Topic at 0x1129e6f70>,\n",
       " '43_ecbplus': <classes.Topic at 0x112a56cd0>,\n",
       " '44_ecbplus': <classes.Topic at 0x112ad4d90>,\n",
       " '45_ecbplus': <classes.Topic at 0x112b804f0>}"
      ]
     },
     "execution_count": 5,
     "metadata": {},
     "output_type": "execute_result"
    }
   ],
   "source": [
    "test_data.topics"
   ]
  },
  {
   "cell_type": "code",
   "execution_count": 7,
   "metadata": {},
   "outputs": [
    {
     "data": {
      "text/plain": [
       "<classes.Topic at 0x111095fd0>"
      ]
     },
     "execution_count": 7,
     "metadata": {},
     "output_type": "execute_result"
    }
   ],
   "source": [
    "t_36=test_data.topics['36_ecb']\n",
    "t_36"
   ]
  },
  {
   "cell_type": "code",
   "execution_count": 10,
   "metadata": {},
   "outputs": [
    {
     "data": {
      "text/plain": [
       "{'36_1ecb': <classes.Document at 0x111095730>,\n",
       " '36_2ecb': <classes.Document at 0x112205ee0>,\n",
       " '36_3ecb': <classes.Document at 0x112216580>,\n",
       " '36_4ecb': <classes.Document at 0x1122266d0>,\n",
       " '36_5ecb': <classes.Document at 0x11222fac0>,\n",
       " '36_6ecb': <classes.Document at 0x1122389d0>,\n",
       " '36_7ecb': <classes.Document at 0x11115c640>,\n",
       " '36_8ecb': <classes.Document at 0x11116e5e0>,\n",
       " '36_9ecb': <classes.Document at 0x111176610>}"
      ]
     },
     "execution_count": 10,
     "metadata": {},
     "output_type": "execute_result"
    }
   ],
   "source": [
    "t_36.docs"
   ]
  },
  {
   "cell_type": "code",
   "execution_count": 15,
   "metadata": {},
   "outputs": [
    {
     "data": {
      "text/plain": [
       "[]"
      ]
     },
     "execution_count": 15,
     "metadata": {},
     "output_type": "execute_result"
    }
   ],
   "source": [
    "## entities and events are [] \n",
    "t_36.event_mentions + t_36.entity_mentions"
   ]
  },
  {
   "cell_type": "code",
   "execution_count": 11,
   "metadata": {},
   "outputs": [],
   "source": [
    "d_36_1 = t_36.docs[\"36_1ecb\"]"
   ]
  },
  {
   "cell_type": "code",
   "execution_count": 16,
   "metadata": {},
   "outputs": [
    {
     "data": {
      "text/plain": [
       "\"2 leaders of polygamist group arrested in Canada @@@ Two top leaders of a polygamous community in western Canada have been arrested and charged with practicing polygamy , British Columbia 's attorney general said Wednesday\""
      ]
     },
     "execution_count": 16,
     "metadata": {},
     "output_type": "execute_result"
    }
   ],
   "source": [
    "d_36_1.get_raw_doc(1)"
   ]
  },
  {
   "cell_type": "code",
   "execution_count": 19,
   "metadata": {},
   "outputs": [
    {
     "data": {
      "text/plain": [
       "\"Two top leaders of a polygamous community in western Canada have been arrested and charged with practicing polygamy , British Columbia 's attorney general said Wednesday\""
      ]
     },
     "execution_count": 19,
     "metadata": {},
     "output_type": "execute_result"
    }
   ],
   "source": [
    "sents = d_36_1.get_sentences()\n",
    "sents[1].get_raw_sentence()"
   ]
  },
  {
   "cell_type": "code",
   "execution_count": 20,
   "metadata": {},
   "outputs": [
    {
     "data": {
      "text/plain": [
       "['Two',\n",
       " 'top',\n",
       " 'leaders',\n",
       " 'of',\n",
       " 'a',\n",
       " 'polygamous',\n",
       " 'community',\n",
       " 'in',\n",
       " 'western',\n",
       " 'Canada',\n",
       " 'have',\n",
       " 'been',\n",
       " 'arrested',\n",
       " 'and',\n",
       " 'charged',\n",
       " 'with',\n",
       " 'practicing',\n",
       " 'polygamy',\n",
       " ',',\n",
       " 'British',\n",
       " 'Columbia',\n",
       " \"'s\",\n",
       " 'attorney',\n",
       " 'general',\n",
       " 'said',\n",
       " 'Wednesday']"
      ]
     },
     "execution_count": 20,
     "metadata": {},
     "output_type": "execute_result"
    }
   ],
   "source": [
    "sents[1].get_tokens_strings()"
   ]
  },
  {
   "cell_type": "code",
   "execution_count": 26,
   "metadata": {},
   "outputs": [
    {
     "name": "stdout",
     "output_type": "stream",
     "text": [
      "arrested,arrested\n",
      "polygamy,polygamy\n",
      "practicing,practicing\n",
      "charged,charged\n",
      "said,said\n"
     ]
    }
   ],
   "source": [
    "for c in sents[1].gold_event_mentions:\n",
    "    if len(c.tokens)>1:\n",
    "        print(\"%s,%s\"%(c.tokens[1].token,c.mention_head))\n",
    "    else:\n",
    "        print(\"%s,%s\"%(c.tokens[0].token,c.mention_head))"
   ]
  },
  {
   "cell_type": "code",
   "execution_count": 27,
   "metadata": {},
   "outputs": [
    {
     "name": "stdout",
     "output_type": "stream",
     "text": [
      "['ACT17642853147528564'],arrested\n",
      "['ACT17642774053647358'],polygamy\n",
      "['Singleton_ACT_18_36_1ecb'],practicing\n",
      "['ACT17642760725664640'],charged\n",
      "['ACT17720542426126151'],said\n"
     ]
    }
   ],
   "source": [
    "for c in sents[1].gold_event_mentions:\n",
    "    print(\"%s,%s\"%(c.tokens[0].gold_event_coref_chain,c.mention_head))"
   ]
  },
  {
   "cell_type": "code",
   "execution_count": null,
   "metadata": {},
   "outputs": [],
   "source": []
  }
 ],
 "metadata": {
  "kernelspec": {
   "display_name": "Python 3",
   "language": "python",
   "name": "python3"
  },
  "language_info": {
   "codemirror_mode": {
    "name": "ipython",
    "version": 3
   },
   "file_extension": ".py",
   "mimetype": "text/x-python",
   "name": "python",
   "nbconvert_exporter": "python",
   "pygments_lexer": "ipython3",
   "version": "3.8.5"
  }
 },
 "nbformat": 4,
 "nbformat_minor": 4
}
